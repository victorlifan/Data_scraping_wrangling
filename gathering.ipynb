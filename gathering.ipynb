{
 "cells": [
  {
   "cell_type": "markdown",
   "metadata": {},
   "source": [
    "## Quiz"
   ]
  },
  {
   "cell_type": "code",
   "execution_count": 1,
   "metadata": {},
   "outputs": [],
   "source": [
    "from bs4 import BeautifulSoup\n",
    "import os\n",
    "import pandas as pd"
   ]
  },
  {
   "cell_type": "code",
   "execution_count": 32,
   "metadata": {},
   "outputs": [],
   "source": [
    "# List of dictionaries to build file by file and later convert to a DataFrame\n",
    "df_list = []\n",
    "folder = 'rt_html'\n",
    "for movie_html in os.listdir(folder):\n",
    "    with open(os.path.join(folder, movie_html)) as file:\n",
    "        # Your code here\n",
    "        # Note: a correct implementation may take ~15 seconds to run\n",
    "        soup = BeautifulSoup(file,'lxml')\n",
    "        # obtain the first item in the content and slice off the last 18 characters\n",
    "        title = soup.find('title').contents[0][:-len(' - Rotten Tomatoes')]\n",
    "        audience_score = soup.find('div', class_= 'audience-score meter').find('span').contents[0][:-len('%')]\n",
    "        # find the most oustside div\n",
    "        num_audience_ratings1 = soup.find('div', class_='audience-info hidden-xs superPageFontColor')\n",
    "        # find_all 'div' obtain 1st one, obtain 2nd content, remove ','\n",
    "        num_audience_ratings = num_audience_ratings1.find_all('div')[1].contents[2].replace(',','').strip()\n",
    "        # Append to list of dictionaries\n",
    "        df_list.append({'title': title,\n",
    "                       'audience_score': int(audience_score),\n",
    "                        'number_of_audience_ratings': int(num_audience_ratings)})\n",
    "df = pd.DataFrame(df_list, columns = ['title', 'audience_score', 'number_of_audience_ratings'])"
   ]
  },
  {
   "cell_type": "code",
   "execution_count": 33,
   "metadata": {},
   "outputs": [
    {
     "data": {
      "text/html": [
       "<div>\n",
       "<style scoped>\n",
       "    .dataframe tbody tr th:only-of-type {\n",
       "        vertical-align: middle;\n",
       "    }\n",
       "\n",
       "    .dataframe tbody tr th {\n",
       "        vertical-align: top;\n",
       "    }\n",
       "\n",
       "    .dataframe thead th {\n",
       "        text-align: right;\n",
       "    }\n",
       "</style>\n",
       "<table border=\"1\" class=\"dataframe\">\n",
       "  <thead>\n",
       "    <tr style=\"text-align: right;\">\n",
       "      <th></th>\n",
       "      <th>title</th>\n",
       "      <th>audience_score</th>\n",
       "      <th>number_of_audience_ratings</th>\n",
       "    </tr>\n",
       "  </thead>\n",
       "  <tbody>\n",
       "    <tr>\n",
       "      <th>0</th>\n",
       "      <td>The Grapes of Wrath (1940)</td>\n",
       "      <td>88</td>\n",
       "      <td>23954</td>\n",
       "    </tr>\n",
       "    <tr>\n",
       "      <th>1</th>\n",
       "      <td>Touch of Evil (1958)</td>\n",
       "      <td>92</td>\n",
       "      <td>30867</td>\n",
       "    </tr>\n",
       "    <tr>\n",
       "      <th>2</th>\n",
       "      <td>Roman Holiday (1953)</td>\n",
       "      <td>94</td>\n",
       "      <td>62895</td>\n",
       "    </tr>\n",
       "    <tr>\n",
       "      <th>3</th>\n",
       "      <td>Dr. Strangelove Or How I Learned to Stop Worry...</td>\n",
       "      <td>94</td>\n",
       "      <td>208215</td>\n",
       "    </tr>\n",
       "    <tr>\n",
       "      <th>4</th>\n",
       "      <td>E.T. The Extra-Terrestrial (1982)</td>\n",
       "      <td>72</td>\n",
       "      <td>32313030</td>\n",
       "    </tr>\n",
       "  </tbody>\n",
       "</table>\n",
       "</div>"
      ],
      "text/plain": [
       "                                               title  audience_score  \\\n",
       "0                         The Grapes of Wrath (1940)              88   \n",
       "1                               Touch of Evil (1958)              92   \n",
       "2                               Roman Holiday (1953)              94   \n",
       "3  Dr. Strangelove Or How I Learned to Stop Worry...              94   \n",
       "4                  E.T. The Extra-Terrestrial (1982)              72   \n",
       "\n",
       "   number_of_audience_ratings  \n",
       "0                       23954  \n",
       "1                       30867  \n",
       "2                       62895  \n",
       "3                      208215  \n",
       "4                    32313030  "
      ]
     },
     "execution_count": 33,
     "metadata": {},
     "output_type": "execute_result"
    }
   ],
   "source": [
    "df.head()"
   ]
  },
  {
   "cell_type": "markdown",
   "metadata": {},
   "source": [
    "## Solution Test\n",
    "Run the cell below the see if your solution is correct. If an `AssertionError` is thrown, your solution is incorrect. If no error is thrown, your solution is correct."
   ]
  },
  {
   "cell_type": "code",
   "execution_count": 31,
   "metadata": {},
   "outputs": [],
   "source": [
    "df_solution = pd.read_pickle('df_solution.pkl')\n",
    "df.sort_values('title', inplace = True)\n",
    "df.reset_index(inplace = True, drop = True)\n",
    "df_solution.sort_values('title', inplace = True)\n",
    "df_solution.reset_index(inplace = True, drop = True)\n",
    "pd.testing.assert_frame_equal(df, df_solution)"
   ]
  }
 ],
 "metadata": {
  "kernelspec": {
   "display_name": "Python 3",
   "language": "python",
   "name": "python3"
  },
  "language_info": {
   "codemirror_mode": {
    "name": "ipython",
    "version": 3
   },
   "file_extension": ".py",
   "mimetype": "text/x-python",
   "name": "python",
   "nbconvert_exporter": "python",
   "pygments_lexer": "ipython3",
   "version": "3.6.3"
  }
 },
 "nbformat": 4,
 "nbformat_minor": 2
}
